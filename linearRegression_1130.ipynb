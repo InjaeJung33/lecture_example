{
 "cells": [
  {
   "cell_type": "code",
   "execution_count": 1,
   "metadata": {},
   "outputs": [],
   "source": [
    "import tensorflow as tf\n",
    "import numpy as np\n",
    "import matplotlib.pyplot as plt\n",
    "\n",
    "%matplotlib inline"
   ]
  },
  {
   "cell_type": "code",
   "execution_count": 2,
   "metadata": {},
   "outputs": [],
   "source": [
    "x_train=[3.3,4.4,5.5,6.71,6.93,4.168,9.779,6.182,7.59,2.167,\n",
    "                         7.042,10.791,5.313,7.997,5.654,9.27,3.1]\n",
    "y_train=[1.7,2.76,2.09,3.19,1.694,1.573,3.366,2.596,2.53,1.221,\n",
    "                         2.827,3.465,1.65,2.904,2.42,2.94,1.3]  #y=3x+1"
   ]
  },
  {
   "cell_type": "code",
   "execution_count": 3,
   "metadata": {},
   "outputs": [],
   "source": [
    "#두개의 traing 을 위한 변수 선언\n",
    "W= tf.Variable(tf.random_normal([1]), name='weights')\n",
    "b= tf.Variable(tf.random_normal([1]), name='biases')\n",
    "\n",
    "hypothesis = x_train*W +b"
   ]
  },
  {
   "cell_type": "code",
   "execution_count": 4,
   "metadata": {},
   "outputs": [],
   "source": [
    "#cost/lost function\n",
    "cost = tf.reduce_mean(tf.square(hypothesis -y_train))"
   ]
  },
  {
   "cell_type": "code",
   "execution_count": 5,
   "metadata": {},
   "outputs": [],
   "source": [
    "#Minimize\n",
    "Optimizer = tf.train.GradientDescentOptimizer(learning_rate =0.01)\n",
    "train= Optimizer.minimize(cost)"
   ]
  },
  {
   "cell_type": "code",
   "execution_count": 9,
   "metadata": {},
   "outputs": [
    {
     "name": "stdout",
     "output_type": "stream",
     "text": [
      "A: [ 0.09785032] B: [ 1.55124915]\n",
      "A: [ 0.14965078] B: [ 1.52182305]\n",
      "A: [ 0.15448987] B: [ 1.48751593]\n",
      "A: [ 0.15909933] B: [ 1.45483708]\n",
      "A: [ 0.16349012] B: [ 1.42370832]\n",
      "A: [ 0.16767253] B: [ 1.39405692]\n",
      "A: [ 0.17165652] B: [ 1.3658123]\n",
      "A: [ 0.17545149] B: [ 1.3389076]\n",
      "A: [ 0.17906636] B: [ 1.31327975]\n",
      "A: [ 0.18250972] B: [ 1.28886795]\n",
      "A: [ 0.18578969] B: [ 1.26561439]\n",
      "A: [ 0.188914] B: [ 1.24346447]\n",
      "A: [ 0.19189008] B: [ 1.22236538]\n",
      "A: [ 0.19472496] B: [ 1.20226741]\n",
      "A: [ 0.19742532] B: [ 1.18312299]\n",
      "A: [ 0.19999759] B: [ 1.16488683]\n",
      "A: [ 0.20244773] B: [ 1.14751637]\n",
      "A: [ 0.20478165] B: [ 1.13096988]\n",
      "A: [ 0.2070048] B: [ 1.11520886]\n",
      "A: [ 0.20912249] B: [ 1.10019529]\n",
      "A: [ 0.21113968] B: [ 1.08589435]\n",
      "A: [ 0.21306118] B: [ 1.07227182]\n",
      "A: [ 0.21489149] B: [ 1.05929565]\n",
      "A: [ 0.21663496] B: [ 1.04693532]\n",
      "A: [ 0.21829569] B: [ 1.0351615]\n",
      "A: [ 0.21987762] B: [ 1.0239464]\n",
      "A: [ 0.22138451] B: [ 1.01326311]\n",
      "A: [ 0.22281988] B: [ 1.00308704]\n",
      "A: [ 0.22418714] B: [ 0.99339378]\n",
      "A: [ 0.22548951] B: [ 0.98416048]\n",
      "A: [ 0.22673011] B: [ 0.97536528]\n",
      "A: [ 0.22791184] B: [ 0.96698731]\n",
      "A: [ 0.22903749] B: [ 0.95900697]\n",
      "A: [ 0.23010972] B: [ 0.95140529]\n",
      "A: [ 0.23113106] B: [ 0.94416445]\n",
      "A: [ 0.23210397] B: [ 0.93726707]\n",
      "A: [ 0.23303071] B: [ 0.9306969]\n",
      "A: [ 0.23391347] B: [ 0.92443848]\n",
      "A: [ 0.23475434] B: [ 0.91847706]\n",
      "A: [ 0.23555531] B: [ 0.91279858]\n",
      "A: [ 0.23631831] B: [ 0.90738922]\n",
      "A: [ 0.23704508] B: [ 0.90223676]\n",
      "A: [ 0.23773737] B: [ 0.89732867]\n",
      "A: [ 0.23839681] B: [ 0.89265358]\n",
      "A: [ 0.23902498] B: [ 0.88820016]\n",
      "A: [ 0.23962331] B: [ 0.88395822]\n",
      "A: [ 0.24019326] B: [ 0.87991756]\n",
      "A: [ 0.24073616] B: [ 0.87606859]\n",
      "A: [ 0.2412533] B: [ 0.87240237]\n",
      "A: [ 0.24174589] B: [ 0.86891019]\n",
      "A: [ 0.24221513] B: [ 0.86558342]\n",
      "A: [ 0.2426621] B: [ 0.8624146]\n",
      "A: [ 0.24308786] B: [ 0.85939622]\n",
      "A: [ 0.24349339] B: [ 0.85652107]\n",
      "A: [ 0.24387971] B: [ 0.85378236]\n",
      "A: [ 0.24424769] B: [ 0.85117358]\n",
      "A: [ 0.24459822] B: [ 0.84868842]\n",
      "A: [ 0.2449321] B: [ 0.84632134]\n",
      "A: [ 0.24525014] B: [ 0.84406656]\n",
      "A: [ 0.24555311] B: [ 0.84191871]\n",
      "A: [ 0.24584168] B: [ 0.83987278]\n",
      "A: [ 0.24611661] B: [ 0.83792371]\n",
      "A: [ 0.24637845] B: [ 0.83606732]\n",
      "A: [ 0.24662787] B: [ 0.83429909]\n",
      "A: [ 0.24686545] B: [ 0.83261472]\n",
      "A: [ 0.24709176] B: [ 0.83101028]\n",
      "A: [ 0.24730733] B: [ 0.82948196]\n",
      "A: [ 0.24751273] B: [ 0.82802588]\n",
      "A: [ 0.24770832] B: [ 0.82663918]\n",
      "A: [ 0.24789464] B: [ 0.82531822]\n",
      "A: [ 0.24807212] B: [ 0.82406002]\n",
      "A: [ 0.24824117] B: [ 0.82286149]\n",
      "A: [ 0.24840221] B: [ 0.82171988]\n",
      "A: [ 0.24855559] B: [ 0.82063246]\n",
      "A: [ 0.24870169] B: [ 0.81959659]\n",
      "A: [ 0.24884093] B: [ 0.81860954]\n",
      "A: [ 0.24897349] B: [ 0.81766969]\n",
      "A: [ 0.24909979] B: [ 0.81677431]\n",
      "A: [ 0.24922006] B: [ 0.81592155]\n",
      "A: [ 0.24933466] B: [ 0.81510913]\n",
      "A: [ 0.24944381] B: [ 0.81433535]\n",
      "A: [ 0.24954779] B: [ 0.81359816]\n",
      "A: [ 0.24964683] B: [ 0.81289607]\n",
      "A: [ 0.24974115] B: [ 0.81222731]\n",
      "A: [ 0.24983102] B: [ 0.81159019]\n",
      "A: [ 0.24991661] B: [ 0.81098336]\n",
      "A: [ 0.24999815] B: [ 0.81040531]\n",
      "A: [ 0.25007582] B: [ 0.80985475]\n",
      "A: [ 0.25014979] B: [ 0.80933028]\n",
      "A: [ 0.25022027] B: [ 0.80883056]\n",
      "A: [ 0.25028744] B: [ 0.80835444]\n",
      "A: [ 0.25035137] B: [ 0.8079012]\n",
      "A: [ 0.25041229] B: [ 0.80746937]\n",
      "A: [ 0.25047028] B: [ 0.80705804]\n",
      "A: [ 0.25052553] B: [ 0.80666631]\n",
      "A: [ 0.25057819] B: [ 0.80629313]\n",
      "A: [ 0.25062832] B: [ 0.80593765]\n",
      "A: [ 0.2506761] B: [ 0.80559897]\n",
      "A: [ 0.2507216] B: [ 0.80527633]\n",
      "A: [ 0.25076494] B: [ 0.80496907]\n"
     ]
    },
    {
     "data": {
      "image/png": "[encoded data removed]",
      "text/plain": [
       "<matplotlib.figure.Figure at 0x13c2fe10>"
      ]
     },
     "metadata": {},
     "output_type": "display_data"
    },
    {
     "name": "stdout",
     "output_type": "stream",
     "text": [
      "[ 0.25076494] [ 0.80496907]\n"
     ]
    }
   ],
   "source": [
    "#변수를 초기화하기 위하여 op 추가\n",
    "init = tf.initialize_all_variables()\n",
    "sess = tf.Session()\n",
    "sess.run(init)\n",
    "\n",
    "for step in range(2000):\n",
    "    sess.run(train)\n",
    "    if step %20 ==0:\n",
    "        A=sess.run(W)\n",
    "        B=sess.run(b)\n",
    "        #print(step,sess.run(cost), A, B)\n",
    "        print(\"A:\",A,\"B:\",B)\n",
    "plt.plot(x_train, y_train, 'ro', label='Original data')\n",
    "#plt.plot(x_train, sess.run(W) * x_train + sess.run(b), label='line')\n",
    "plt.plot(x_train, A * x_train + B, label='CIRCLE')\n",
    "    #plt.legend()\n",
    "plt.show()  \n",
    "print(A,B)\n"
   ]
  },
  {
   "cell_type": "code",
   "execution_count": null,
   "metadata": {},
   "outputs": [],
   "source": []
  }
 ],
 "metadata": {
  "kernelspec": {
   "display_name": "Python 3",
   "language": "python",
   "name": "python3"
  },
  "language_info": {
   "codemirror_mode": {
    "name": "ipython",
    "version": 3
   },
   "file_extension": ".py",
   "mimetype": "text/x-python",
   "name": "python",
   "nbconvert_exporter": "python",
   "pygments_lexer": "ipython3",
   "version": "3.6.1"
  }
 },
 "nbformat": 4,
 "nbformat_minor": 2
}
