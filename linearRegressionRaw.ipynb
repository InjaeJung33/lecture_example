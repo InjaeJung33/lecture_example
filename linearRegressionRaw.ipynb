{
 "cells": [
  {
   "cell_type": "code",
   "execution_count": 1,
   "metadata": {},
   "outputs": [],
   "source": [
    "import tensorflow as tf\n",
    "import numpy as np\n",
    "import matplotlib.pyplot as plt\n",
    "%matplotlib notebook"
   ]
  },
  {
   "cell_type": "code",
   "execution_count": 12,
   "metadata": {},
   "outputs": [],
   "source": [
    "x_train=[1,2,3,4,5,6,8,9,10]\n",
    "y_train=[1,2,3,4,5,6,7,8,9]\n",
    "#X=tf.placeholder(tf.float32,shape=[None])\n",
    "#Y=tf.placeholder(tf.float32,shape=[None])\n",
    "X=tf.placeholder(tf.float32)\n",
    "Y=tf.placeholder(tf.float32)\n",
    "x_data=[1,2,3]\n",
    "y_data=[1,2,3]"
   ]
  },
  {
   "cell_type": "code",
   "execution_count": 13,
   "metadata": {},
   "outputs": [],
   "source": [
    "#두개의 traing 을 위한 변수 선언\n",
    "W= tf.Variable(tf.random_normal([1]), name='weights')\n",
    "b= tf.Variable(tf.random_normal([1]), name='bias')\n",
    "\n",
    "hypothesis = X*W +b"
   ]
  },
  {
   "cell_type": "code",
   "execution_count": 14,
   "metadata": {},
   "outputs": [],
   "source": [
    "#cost/lost function\n",
    "cost = tf.reduce_mean(tf.square(hypothesis -Y))"
   ]
  },
  {
   "cell_type": "code",
   "execution_count": 15,
   "metadata": {},
   "outputs": [],
   "source": [
    "#미분을 이용하는 gradient decent를 이용하여 최소화\n",
    "learning_rate =0.1\n",
    "gradient = tf.reduce_mean((W*X -Y)*X) \n",
    "decent = W -learning_rate*gradient\n",
    "update = W.assign(decent)"
   ]
  },
  {
   "cell_type": "code",
   "execution_count": 16,
   "metadata": {},
   "outputs": [],
   "source": [
    "#Minimize\n",
    "Optimizer = tf.train.GradientDescentOptimizer(learning_rate =0.01)\n",
    "train= Optimizer.minimize(cost)"
   ]
  },
  {
   "cell_type": "code",
   "execution_count": 17,
   "metadata": {},
   "outputs": [],
   "source": [
    "sess =tf.Session()\n",
    "sess.run(tf.global_variables_initializer())"
   ]
  },
  {
   "cell_type": "code",
   "execution_count": 31,
   "metadata": {},
   "outputs": [],
   "source": [
    "W_val=[]\n",
    "const_val=[]"
   ]
  },
  {
   "cell_type": "code",
   "execution_count": 19,
   "metadata": {},
   "outputs": [
    {
     "name": "stdout",
     "output_type": "stream",
     "text": [
      "0 0.851446 [ 0.99999934]\n",
      "1 0.851445 [ 0.99999964]\n",
      "2 0.851444 [ 0.99999982]\n",
      "3 0.851444 [ 0.99999988]\n",
      "4 0.851444 [ 0.99999994]\n",
      "5 0.851444 [ 1.]\n",
      "6 0.851444 [ 1.]\n",
      "7 0.851444 [ 1.]\n",
      "8 0.851444 [ 1.]\n",
      "9 0.851444 [ 1.]\n",
      "10 0.851444 [ 1.]\n",
      "11 0.851444 [ 1.]\n",
      "12 0.851444 [ 1.]\n",
      "13 0.851444 [ 1.]\n",
      "14 0.851444 [ 1.]\n",
      "15 0.851444 [ 1.]\n",
      "16 0.851444 [ 1.]\n",
      "17 0.851444 [ 1.]\n",
      "18 0.851444 [ 1.]\n",
      "19 0.851444 [ 1.]\n",
      "20 0.851444 [ 1.]\n"
     ]
    }
   ],
   "source": [
    "for step in range(21):\n",
    "    #cost_val,W_val,b_val,_= sess.run([cost, W,b, train],feed_dict= {X:[1,2,3,4,5,6,7,8,9],Y:[1,2,3,4,5,6,7,8,9]})\n",
    "    sess.run(update,feed_dict={X:x_data,Y:y_data})\n",
    "    print(step, sess.run(cost,feed_dict= {X:x_data,Y:y_data}), sess.run(W))\n",
    "#plt.plot =(W_val,cost_val)\n",
    "#plt.show()\n",
    "\n"
   ]
  },
  {
   "cell_type": "code",
   "execution_count": null,
   "metadata": {},
   "outputs": [],
   "source": []
  }
 ],
 "metadata": {
  "kernelspec": {
   "display_name": "Python 3",
   "language": "python",
   "name": "python3"
  },
  "language_info": {
   "codemirror_mode": {
    "name": "ipython",
    "version": 3
   },
   "file_extension": ".py",
   "mimetype": "text/x-python",
   "name": "python",
   "nbconvert_exporter": "python",
   "pygments_lexer": "ipython3",
   "version": "3.6.1"
  }
 },
 "nbformat": 4,
 "nbformat_minor": 2
}
