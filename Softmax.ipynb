{
 "cells": [
  {
   "cell_type": "code",
   "execution_count": null,
   "metadata": {},
   "outputs": [],
   "source": [
    "import tensorflow as tf\n",
    "import numpy as np\n",
    "import matplotlib.pyplot as plt\n",
    "%matplotlib notebook"
   ]
  },
  {
   "cell_type": "code",
   "execution_count": 2,
   "metadata": {},
   "outputs": [],
   "source": [
    "X=tf.placeholder(tf.float32,shape=[None ,4])\n",
    "Y=tf.placeholder(tf.float32, shape=[None,3])"
   ]
  },
  {
   "cell_type": "code",
   "execution_count": 3,
   "metadata": {},
   "outputs": [],
   "source": [
    "x_data = [[1, 2, 1, 1], [2, 1, 3, 2], [3, 1, 3, 4], [4, 1, 5, 5], [1, 7, 5, 5], [1, 2, 5, 6], [1, 6, 6, 6], [1, 7, 7, 7]]\n",
    "y_data = [[0, 0, 1], [0, 0, 1], [0, 0, 1], [0, 1, 0], [0, 1, 0], [0, 1, 0], [1, 0, 0], [1, 0, 0]]"
   ]
  },
  {
   "cell_type": "code",
   "execution_count": 4,
   "metadata": {},
   "outputs": [],
   "source": [
    "#두개의 traing 을 위한 변수 선언\n",
    "W= tf.Variable(tf.random_normal([4,3]),name='weight')\n",
    "b= tf.Variable(tf.random_normal([3]),name='bias')\n",
    "\n",
    "hypothesis = tf.nn.softmax(tf.matmul(X,W)+b)"
   ]
  },
  {
   "cell_type": "code",
   "execution_count": 5,
   "metadata": {},
   "outputs": [],
   "source": [
    "#cost/lost function\n",
    "cost = -tf.reduce_mean(tf.reduce_sum(Y*tf.log(hypothesis) ,axis=1))"
   ]
  },
  {
   "cell_type": "code",
   "execution_count": 6,
   "metadata": {},
   "outputs": [],
   "source": [
    "#Minimize\n",
    "Optimizer = tf.train.GradientDescentOptimizer(learning_rate =0.01)\n",
    "train= Optimizer.minimize(cost)"
   ]
  },
  {
   "cell_type": "code",
   "execution_count": null,
   "metadata": {},
   "outputs": [],
   "source": [
    "predict=tf.cast(hypothesis> 0.5,dtype=tf.float32)\n",
    "accuracy =tf.reduce_mean(tf.cast(tf.equal(predict, Y), dtype=tf.float32))"
   ]
  },
  {
   "cell_type": "code",
   "execution_count": 17,
   "metadata": {},
   "outputs": [
    {
     "name": "stdout",
     "output_type": "stream",
     "text": [
      "0 COST: 8.1707\n",
      "200 COST: 0.61041\n",
      "400 COST: 0.516941\n",
      "600 COST: 0.478162\n",
      "800 COST: 0.456159\n",
      "1000 COST: 0.440657\n",
      "1200 COST: 0.42838\n",
      "1400 COST: 0.418003\n",
      "1600 COST: 0.408876\n",
      "1800 COST: 0.400635\n",
      "2000 COST: 0.393058\n",
      "2200 COST: 0.385999\n",
      "2400 COST: 0.37936\n",
      "2600 COST: 0.37307\n",
      "2800 COST: 0.367078\n",
      "3000 COST: 0.361345\n",
      "3200 COST: 0.355842\n",
      "3400 COST: 0.350543\n",
      "3600 COST: 0.345431\n",
      "3800 COST: 0.340489\n",
      "4000 COST: 0.335704\n",
      "4200 COST: 0.331065\n",
      "4400 COST: 0.326562\n",
      "4600 COST: 0.322187\n",
      "4800 COST: 0.317933\n",
      "5000 COST: 0.313793\n",
      "5200 COST: 0.309761\n",
      "5400 COST: 0.305832\n",
      "5600 COST: 0.302002\n",
      "5800 COST: 0.298265\n",
      "6000 COST: 0.294619\n",
      "6200 COST: 0.291059\n",
      "6400 COST: 0.287582\n",
      "6600 COST: 0.284185\n",
      "6800 COST: 0.280865\n",
      "7000 COST: 0.277618\n",
      "7200 COST: 0.274443\n",
      "7400 COST: 0.271338\n",
      "7600 COST: 0.268298\n",
      "7800 COST: 0.265324\n",
      "8000 COST: 0.262411\n",
      "8200 COST: 0.25956\n",
      "8400 COST: 0.256766\n",
      "8600 COST: 0.25403\n",
      "8800 COST: 0.251348\n",
      "9000 COST: 0.248719\n",
      "9200 COST: 0.246143\n",
      "9400 COST: 0.243617\n",
      "9600 COST: 0.241139\n",
      "9800 COST: 0.238709\n",
      "10000 COST: 0.236325\n",
      "[[  6.15979314e-01   3.84000719e-01   1.99739025e-05]\n",
      " [  2.17517912e-01   5.85291862e-01   1.97190255e-01]\n",
      " [  1.58062414e-06   1.86006713e-03   9.98138309e-01]] [0 1 2]\n"
     ]
    }
   ],
   "source": [
    "with tf.Session() as sess:\n",
    "    sess.run(tf.global_variables_initializer())\n",
    "    \n",
    "    for step in range(10001):\n",
    "        cost_val,_= sess.run([cost,train],feed_dict={X:x_data,Y:y_data})\n",
    "        if step %200 == 0:\n",
    "            print(step,\"COST:\",cost_val)\n",
    "    \n",
    "    #Accuray Report\n",
    "    #h,c,a= sess.run([hypothesis,predict,accuracy],feed_dict={X:x_data,Y:y_data})\n",
    "    #print(\"\\n Hypothesis:\",h,\"\\nCorrect(Y):\", c, \"\\nAccuracy:\", a)\n",
    "    a= sess.run(hypothesis,feed_dict={X:[[1,11,7,9],\n",
    "                                     [1,3,4,3],\n",
    "                                     [1,1,0,1]]})\n",
    "    print(a,sess.run(tf.argmax(a,1)))\n"
   ]
  }
 ],
 "metadata": {
  "kernelspec": {
   "display_name": "Python 3",
   "language": "python",
   "name": "python3"
  },
  "language_info": {
   "codemirror_mode": {
    "name": "ipython",
    "version": 3
   },
   "file_extension": ".py",
   "mimetype": "text/x-python",
   "name": "python",
   "nbconvert_exporter": "python",
   "pygments_lexer": "ipython3",
   "version": "3.6.1"
  }
 },
 "nbformat": 4,
 "nbformat_minor": 2
}
