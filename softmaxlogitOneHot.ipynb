{
 "cells": [
  {
   "cell_type": "code",
   "execution_count": 1,
   "metadata": {},
   "outputs": [],
   "source": [
    "import tensorflow as tf\n",
    "import numpy as np\n",
    "import matplotlib.pyplot as plt\n",
    "%matplotlib notebook"
   ]
  },
  {
   "cell_type": "code",
   "execution_count": 19,
   "metadata": {},
   "outputs": [],
   "source": [
    "X=tf.placeholder(tf.float32,shape=[None ,16])\n",
    "#Y=tf.placeholder(tf.float32, shape=[None,3])\n",
    "Y=tf.placeholder(tf.int32, shape=[None,1])   #shape = (?,1)\n",
    "nb_classes = 7"
   ]
  },
  {
   "cell_type": "code",
   "execution_count": 41,
   "metadata": {},
   "outputs": [],
   "source": [
    "xy = np.loadtxt('C:\\교육\\인공지능 강의_소프트웨어인재개발원\\김성훈교수님\\실습자료_이재오\\datazoo.csv', delimiter=',', dtype=np.float32)\n",
    "x_data= xy[:,0:-1]\n",
    "y_data= xy[:,[-1]]"
   ]
  },
  {
   "cell_type": "code",
   "execution_count": 42,
   "metadata": {},
   "outputs": [],
   "source": [
    "Y_one_hot = tf.one_hot(Y,nb_classes)   #shape = (?,1,7)\n",
    "Y_one_hot = tf.reshape(Y_one_hot,[-1,nb_classes]) #shape = (?,7)"
   ]
  },
  {
   "cell_type": "code",
   "execution_count": null,
   "metadata": {},
   "outputs": [],
   "source": []
  },
  {
   "cell_type": "code",
   "execution_count": 43,
   "metadata": {},
   "outputs": [],
   "source": [
    "#두개의 traing 을 위한 변수 선언\n",
    "W= tf.Variable(tf.random_normal([16,nb_classes]),name='weight')\n",
    "b= tf.Variable(tf.random_normal([nb_classes]),name='bias')"
   ]
  },
  {
   "cell_type": "code",
   "execution_count": 44,
   "metadata": {},
   "outputs": [],
   "source": [
    "logits=tf.matmul(X,W)+b\n",
    "hypothesis = tf.nn.softmax(logits)"
   ]
  },
  {
   "cell_type": "code",
   "execution_count": 45,
   "metadata": {},
   "outputs": [],
   "source": [
    "#cost/lost function\n",
    "cost_i=tf.nn.softmax_cross_entropy_with_logits(logits = logits, labels= Y_one_hot)\n",
    "cost = tf.reduce_mean(cost_i)"
   ]
  },
  {
   "cell_type": "code",
   "execution_count": 46,
   "metadata": {},
   "outputs": [],
   "source": [
    "#Minimize\n",
    "Optimizer = tf.train.GradientDescentOptimizer(learning_rate =0.01)\n",
    "train= Optimizer.minimize(cost)"
   ]
  },
  {
   "cell_type": "code",
   "execution_count": 47,
   "metadata": {},
   "outputs": [],
   "source": [
    "prediction=tf.argmax(hypothesis,1)\n",
    "correct_prediction= tf.equal(prediction,tf.argmax(Y_one_hot,1))\n",
    "accuracy =tf.reduce_mean(tf.cast(correct_prediction,tf.float32))"
   ]
  },
  {
   "cell_type": "code",
   "execution_count": 53,
   "metadata": {},
   "outputs": [
    {
     "name": "stdout",
     "output_type": "stream",
     "text": [
      "step    0\tLoss6.803\tAcc:28.71%\n",
      "step  100\tLoss2.255\tAcc:39.60%\n",
      "step  200\tLoss1.616\tAcc:42.57%\n",
      "step  300\tLoss1.226\tAcc:56.44%\n",
      "step  400\tLoss1.029\tAcc:69.31%\n",
      "step  500\tLoss0.914\tAcc:77.23%\n",
      "step  600\tLoss0.833\tAcc:78.22%\n",
      "step  700\tLoss0.772\tAcc:80.20%\n",
      "step  800\tLoss0.723\tAcc:80.20%\n",
      "step  900\tLoss0.683\tAcc:80.20%\n",
      "step 1000\tLoss0.649\tAcc:84.16%\n",
      "step 1100\tLoss0.620\tAcc:85.15%\n",
      "step 1200\tLoss0.594\tAcc:85.15%\n",
      "step 1300\tLoss0.571\tAcc:85.15%\n",
      "step 1400\tLoss0.550\tAcc:85.15%\n",
      "step 1500\tLoss0.531\tAcc:86.14%\n",
      "step 1600\tLoss0.513\tAcc:86.14%\n",
      "step 1700\tLoss0.497\tAcc:86.14%\n",
      "step 1800\tLoss0.482\tAcc:86.14%\n",
      "step 1900\tLoss0.467\tAcc:86.14%\n",
      "[True] prediction:0 True Y: 0\n",
      "[True] prediction:0 True Y: 0\n",
      "[True] prediction:3 True Y: 3\n",
      "[True] prediction:0 True Y: 0\n",
      "[True] prediction:0 True Y: 0\n",
      "[True] prediction:0 True Y: 0\n",
      "[True] prediction:0 True Y: 0\n",
      "[True] prediction:3 True Y: 3\n",
      "[True] prediction:3 True Y: 3\n",
      "[True] prediction:0 True Y: 0\n",
      "[True] prediction:0 True Y: 0\n",
      "[True] prediction:1 True Y: 1\n",
      "[True] prediction:3 True Y: 3\n",
      "[False] prediction:4 True Y: 6\n",
      "[True] prediction:6 True Y: 6\n",
      "[True] prediction:6 True Y: 6\n",
      "[True] prediction:1 True Y: 1\n",
      "[True] prediction:0 True Y: 0\n",
      "[True] prediction:3 True Y: 3\n",
      "[True] prediction:0 True Y: 0\n",
      "[True] prediction:1 True Y: 1\n",
      "[True] prediction:1 True Y: 1\n",
      "[True] prediction:0 True Y: 0\n",
      "[True] prediction:1 True Y: 1\n",
      "[False] prediction:6 True Y: 5\n",
      "[True] prediction:4 True Y: 4\n",
      "[True] prediction:4 True Y: 4\n",
      "[True] prediction:0 True Y: 0\n",
      "[True] prediction:0 True Y: 0\n",
      "[True] prediction:0 True Y: 0\n",
      "[True] prediction:5 True Y: 5\n",
      "[True] prediction:0 True Y: 0\n",
      "[True] prediction:0 True Y: 0\n",
      "[True] prediction:1 True Y: 1\n",
      "[True] prediction:3 True Y: 3\n",
      "[True] prediction:0 True Y: 0\n",
      "[True] prediction:0 True Y: 0\n",
      "[True] prediction:1 True Y: 1\n",
      "[True] prediction:3 True Y: 3\n",
      "[True] prediction:5 True Y: 5\n",
      "[True] prediction:5 True Y: 5\n",
      "[True] prediction:1 True Y: 1\n",
      "[True] prediction:5 True Y: 5\n",
      "[True] prediction:1 True Y: 1\n",
      "[True] prediction:0 True Y: 0\n",
      "[True] prediction:0 True Y: 0\n",
      "[True] prediction:6 True Y: 6\n",
      "[True] prediction:0 True Y: 0\n",
      "[True] prediction:0 True Y: 0\n",
      "[True] prediction:0 True Y: 0\n",
      "[True] prediction:0 True Y: 0\n",
      "[True] prediction:5 True Y: 5\n",
      "[False] prediction:6 True Y: 4\n",
      "[True] prediction:6 True Y: 6\n",
      "[True] prediction:0 True Y: 0\n",
      "[True] prediction:0 True Y: 0\n",
      "[True] prediction:1 True Y: 1\n",
      "[True] prediction:1 True Y: 1\n",
      "[True] prediction:1 True Y: 1\n",
      "[True] prediction:1 True Y: 1\n",
      "[True] prediction:3 True Y: 3\n",
      "[True] prediction:3 True Y: 3\n",
      "[False] prediction:1 True Y: 2\n",
      "[True] prediction:0 True Y: 0\n",
      "[True] prediction:0 True Y: 0\n",
      "[True] prediction:0 True Y: 0\n",
      "[True] prediction:0 True Y: 0\n",
      "[True] prediction:0 True Y: 0\n",
      "[True] prediction:0 True Y: 0\n",
      "[True] prediction:0 True Y: 0\n",
      "[True] prediction:0 True Y: 0\n",
      "[True] prediction:1 True Y: 1\n",
      "[False] prediction:5 True Y: 6\n",
      "[True] prediction:3 True Y: 3\n",
      "[True] prediction:0 True Y: 0\n",
      "[True] prediction:0 True Y: 0\n",
      "[False] prediction:0 True Y: 2\n",
      "[False] prediction:1 True Y: 6\n",
      "[True] prediction:1 True Y: 1\n",
      "[True] prediction:1 True Y: 1\n",
      "[False] prediction:3 True Y: 2\n",
      "[False] prediction:1 True Y: 6\n",
      "[True] prediction:3 True Y: 3\n",
      "[True] prediction:1 True Y: 1\n",
      "[True] prediction:0 True Y: 0\n",
      "[True] prediction:6 True Y: 6\n",
      "[True] prediction:3 True Y: 3\n",
      "[True] prediction:1 True Y: 1\n",
      "[False] prediction:6 True Y: 5\n",
      "[False] prediction:6 True Y: 4\n",
      "[False] prediction:1 True Y: 2\n",
      "[False] prediction:4 True Y: 2\n",
      "[True] prediction:3 True Y: 3\n",
      "[True] prediction:0 True Y: 0\n",
      "[True] prediction:0 True Y: 0\n",
      "[True] prediction:1 True Y: 1\n",
      "[True] prediction:0 True Y: 0\n",
      "[True] prediction:5 True Y: 5\n",
      "[True] prediction:0 True Y: 0\n",
      "[False] prediction:1 True Y: 6\n",
      "[True] prediction:1 True Y: 1\n"
     ]
    }
   ],
   "source": [
    "with tf.Session() as sess:\n",
    "    sess.run(tf.global_variables_initializer())\n",
    "    \n",
    "    for step in range(2000):\n",
    "        sess.run(train,feed_dict={X:x_data,Y:y_data})\n",
    "        if step %100 == 0:\n",
    "            loss,acc= sess.run([cost,accuracy],feed_dict={X:x_data,Y:y_data})\n",
    "            print(\"step{:5}\\tLoss{:.3f}\\tAcc:{:.2%}\".format(step,loss,acc))\n",
    "    \n",
    "    #Accuray Report\n",
    "    pred= sess.run(prediction,feed_dict={X:x_data})\n",
    "    #y_data shape = (N,1) => flatten => (N,)  , y_data == pred shape \n",
    "    for p,y in zip(pred,y_data.flatten()):\n",
    "        print(\"[{}] prediction:{} True Y: {}\".format(p==int(y),p, int(y)))\n"
   ]
  }
 ],
 "metadata": {
  "kernelspec": {
   "display_name": "Python 3",
   "language": "python",
   "name": "python3"
  },
  "language_info": {
   "codemirror_mode": {
    "name": "ipython",
    "version": 3
   },
   "file_extension": ".py",
   "mimetype": "text/x-python",
   "name": "python",
   "nbconvert_exporter": "python",
   "pygments_lexer": "ipython3",
   "version": "3.6.1"
  }
 },
 "nbformat": 4,
 "nbformat_minor": 2
}
