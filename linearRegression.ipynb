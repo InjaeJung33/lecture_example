{
 "cells": [
  {
   "cell_type": "code",
   "execution_count": 1,
   "metadata": {},
   "outputs": [],
   "source": [
    "import tensorflow as tf\n",
    "import numpy as np\n",
    "import matplotlib.pyplot as plt\n",
    "\n",
    "%matplotlib inline"
   ]
  },
  {
   "cell_type": "code",
   "execution_count": 2,
   "metadata": {},
   "outputs": [],
   "source": [
    "x_train=[3.3,4.4,5.5,6.71,6.93,4.168,9.779,6.182,7.59,2.167,\n",
    "                         7.042,10.791,5.313,7.997,5.654,9.27,3.1]\n",
    "y_train=[1.7,2.76,2.09,3.19,1.694,1.573,3.366,2.596,2.53,1.221,\n",
    "                         2.827,3.465,1.65,2.904,2.42,2.94,1.3]  #y=3x+1"
   ]
  },
  {
   "cell_type": "code",
   "execution_count": 3,
   "metadata": {},
   "outputs": [],
   "source": [
    "#두개의 traing 을 위한 변수 선언\n",
    "W= tf.Variable(tf.random_normal([1]), name='weights')\n",
    "b= tf.Variable(tf.random_normal([1]), name='biases')\n",
    "\n",
    "hypothesis = x_train*W +b"
   ]
  },
  {
   "cell_type": "code",
   "execution_count": 4,
   "metadata": {},
   "outputs": [],
   "source": [
    "#cost/lost function\n",
    "cost = tf.reduce_mean(tf.square(hypothesis -y_train))"
   ]
  },
  {
   "cell_type": "code",
   "execution_count": 5,
   "metadata": {},
   "outputs": [],
   "source": [
    "#Minimize\n",
    "Optimizer = tf.train.GradientDescentOptimizer(learning_rate =0.01)\n",
    "train= Optimizer.minimize(cost)"
   ]
  },
  {
   "cell_type": "code",
   "execution_count": 6,
   "metadata": {},
   "outputs": [
    {
     "name": "stdout",
     "output_type": "stream",
     "text": [
      "WARNING:tensorflow:From c:\\programdata\\anaconda3\\lib\\site-packages\\tensorflow\\python\\util\\tf_should_use.py:107: initialize_all_variables (from tensorflow.python.ops.variables) is deprecated and will be removed after 2017-03-02.\n",
      "Instructions for updating:\n",
      "Use `tf.global_variables_initializer` instead.\n",
      "A: [ 0.06927168] B: [ 1.56467235]\n"
     ]
    },
    {
     "data": {
      "image/png": "[encoded data removed]",
      "text/plain": [
       "<matplotlib.figure.Figure at 0x13a7f4e0>"
      ]
     },
     "metadata": {},
     "output_type": "display_data"
    },
    {
     "name": "stdout",
     "output_type": "stream",
     "text": [
      "[ 0.06927168] [ 1.56467235]\n"
     ]
    }
   ],
   "source": [
    "#변수를 초기화하기 위하여 op 추가\n",
    "init = tf.initialize_all_variables()\n",
    "sess = tf.Session()\n",
    "sess.run(init)\n",
    "\n",
    "for step in range(20):\n",
    "    sess.run(train)\n",
    "    writer = tf.summary.FileWriter('./board', sess.graph)\n",
    "    if step %20 ==0:\n",
    "        A=sess.run(W)\n",
    "        B=sess.run(b)\n",
    "        #print(step,sess.run(cost), A, B)\n",
    "        print(\"A:\",A,\"B:\",B)\n",
    "plt.plot(x_train, y_train, 'ro', label='Original data')\n",
    "#plt.plot(x_train, sess.run(W) * x_train + sess.run(b), label='line')\n",
    "plt.plot(x_train, A * x_train + B, label='CIRCLE')\n",
    "    #plt.legend()\n",
    "plt.show()  \n",
    "print(A,B)\n"
   ]
  },
  {
   "cell_type": "code",
   "execution_count": null,
   "metadata": {},
   "outputs": [],
   "source": []
  }
 ],
 "metadata": {
  "kernelspec": {
   "display_name": "Python 3",
   "language": "python",
   "name": "python3"
  },
  "language_info": {
   "codemirror_mode": {
    "name": "ipython",
    "version": 3
   },
   "file_extension": ".py",
   "mimetype": "text/x-python",
   "name": "python",
   "nbconvert_exporter": "python",
   "pygments_lexer": "ipython3",
   "version": "3.6.1"
  }
 },
 "nbformat": 4,
 "nbformat_minor": 2
}
