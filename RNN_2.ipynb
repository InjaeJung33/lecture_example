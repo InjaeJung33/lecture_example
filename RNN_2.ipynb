{
 "cells": [
  {
   "cell_type": "code",
   "execution_count": 3,
   "metadata": {},
   "outputs": [],
   "source": [
    "import tensorflow as tf\n",
    "import numpy as np\n",
    "from tensorflow.contrib import rnn\n",
    "import pprint\n",
    "\n",
    "tf.set_random_seed(777)"
   ]
  },
  {
   "cell_type": "code",
   "execution_count": 5,
   "metadata": {},
   "outputs": [],
   "source": [
    "sample=\" if you want you \"\n",
    "\n",
    "idx2char =list(set(sample))\n",
    "char2idx={c:i for i,c in enumerate(idx2char)}\n",
    "\n",
    "dic_size= len(char2idx)\n",
    "hidden_size= len(char2idx)\n",
    "num_classes= len(char2idx)\n",
    "batch_size= 1\n",
    "sequence_length= len(sample)-1\n",
    "learning_rate= 0.1\n",
    "\n",
    "sample_idx= [char2idx[c] for c in sample]\n",
    "x_data=[sample_idx[:-1]]\n",
    "y_data=[sample_idx[1:]]\n",
    "\n",
    "X=tf.placeholder(tf.int32,[None,sequence_length])\n",
    "Y=tf.placeholder(tf.int32,[None,sequence_length])\n",
    "\n",
    "x_one_hot = tf.one_hot(X,num_classes)\n",
    "cell= tf.contrib.rnn.BasicLSTMCell(num_units=hidden_size,state_is_tuple=True)\n",
    "\n"
   ]
  },
  {
   "cell_type": "code",
   "execution_count": 7,
   "metadata": {},
   "outputs": [],
   "source": [
    "initial_state=cell.zero_state(batch_size,tf.float32)"
   ]
  },
  {
   "cell_type": "code",
   "execution_count": 8,
   "metadata": {},
   "outputs": [],
   "source": [
    "outputs,_states=tf.nn.dynamic_rnn(cell,x_one_hot,initial_state= initial_state, dtype=tf.float32)"
   ]
  },
  {
   "cell_type": "code",
   "execution_count": 10,
   "metadata": {},
   "outputs": [],
   "source": [
    "x_for_fc=tf.reshape(outputs,[-1,hidden_size])\n",
    "outputs=tf.contrib.layers.fully_connected(inputs=x_for_fc, num_outputs=num_classes,activation_fn=None)"
   ]
  },
  {
   "cell_type": "code",
   "execution_count": 12,
   "metadata": {},
   "outputs": [],
   "source": [
    "outputs=tf.reshape(outputs,[batch_size,sequence_length, num_classes])\n",
    "weights=tf.ones([batch_size, sequence_length])"
   ]
  },
  {
   "cell_type": "code",
   "execution_count": 13,
   "metadata": {},
   "outputs": [],
   "source": [
    "sequence_loss=tf.contrib.seq2seq.sequence_loss(logits=outputs,targets=Y,weights=weights)"
   ]
  },
  {
   "cell_type": "code",
   "execution_count": 14,
   "metadata": {},
   "outputs": [],
   "source": [
    "loss=tf.reduce_mean(sequence_loss)\n",
    "train=tf.train.AdamOptimizer(learning_rate=learning_rate).minimize(loss)"
   ]
  },
  {
   "cell_type": "code",
   "execution_count": 15,
   "metadata": {},
   "outputs": [],
   "source": [
    "prediction=tf.argmax(outputs,axis=2)"
   ]
  },
  {
   "cell_type": "code",
   "execution_count": 19,
   "metadata": {},
   "outputs": [
    {
     "name": "stdout",
     "output_type": "stream",
     "text": [
      "0 loss:  2.30097 \\prediction str: y               \n",
      "1 loss:  2.12921 \\prediction str: y               \n",
      "2 loss:  1.97363 \\prediction str: o               \n",
      "3 loss:  1.79624 \\prediction str: o  o     tt y   \n",
      "4 loss:  1.5663 \\prediction str: y  oou uatt you \n",
      "5 loss:  1.3157 \\prediction str: y  oou uatt you \n",
      "6 loss:  1.08769 \\prediction str: y  you want you \n",
      "7 loss:  0.854671 \\prediction str: y  you want you \n",
      "8 loss:  0.640515 \\prediction str: y  you want you \n",
      "9 loss:  0.464139 \\prediction str: if you want you \n",
      "10 loss:  0.33127 \\prediction str: if you want you \n",
      "11 loss:  0.231086 \\prediction str: if you want you \n",
      "12 loss:  0.161631 \\prediction str: if you want you \n",
      "13 loss:  0.113253 \\prediction str: if you want you \n",
      "14 loss:  0.0789946 \\prediction str: if you want you \n",
      "15 loss:  0.0547186 \\prediction str: if you want you \n",
      "16 loss:  0.0376539 \\prediction str: if you want you \n",
      "17 loss:  0.0258654 \\prediction str: if you want you \n",
      "18 loss:  0.0179352 \\prediction str: if you want you \n",
      "19 loss:  0.0127064 \\prediction str: if you want you \n",
      "20 loss:  0.00925192 \\prediction str: if you want you \n",
      "21 loss:  0.00692053 \\prediction str: if you want you \n",
      "22 loss:  0.00529922 \\prediction str: if you want you \n",
      "23 loss:  0.00413765 \\prediction str: if you want you \n",
      "24 loss:  0.0032861 \\prediction str: if you want you \n",
      "25 loss:  0.00265271 \\prediction str: if you want you \n",
      "26 loss:  0.00217776 \\prediction str: if you want you \n",
      "27 loss:  0.00181915 \\prediction str: if you want you \n",
      "28 loss:  0.00154636 \\prediction str: if you want you \n",
      "29 loss:  0.00133685 \\prediction str: if you want you \n",
      "30 loss:  0.00117378 \\prediction str: if you want you \n",
      "31 loss:  0.00104474 \\prediction str: if you want you \n",
      "32 loss:  0.000940411 \\prediction str: if you want you \n",
      "33 loss:  0.000853943 \\prediction str: if you want you \n",
      "34 loss:  0.000780628 \\prediction str: if you want you \n",
      "35 loss:  0.000717271 \\prediction str: if you want you \n",
      "36 loss:  0.000662015 \\prediction str: if you want you \n",
      "37 loss:  0.000613663 \\prediction str: if you want you \n",
      "38 loss:  0.000571509 \\prediction str: if you want you \n",
      "39 loss:  0.000534952 \\prediction str: if you want you \n",
      "40 loss:  0.000503538 \\prediction str: if you want you \n",
      "41 loss:  0.000476598 \\prediction str: if you want you \n",
      "42 loss:  0.000453596 \\prediction str: if you want you \n",
      "43 loss:  0.000433907 \\prediction str: if you want you \n",
      "44 loss:  0.000417025 \\prediction str: if you want you \n",
      "45 loss:  0.000402504 \\prediction str: if you want you \n",
      "46 loss:  0.00038974 \\prediction str: if you want you \n",
      "47 loss:  0.000378435 \\prediction str: if you want you \n",
      "48 loss:  0.000368307 \\prediction str: if you want you \n",
      "49 loss:  0.00035902 \\prediction str: if you want you \n"
     ]
    }
   ],
   "source": [
    "with tf.Session() as sess:\n",
    "    sess.run(tf.global_variables_initializer())\n",
    "    for i in range(50):\n",
    "        l,_= sess.run([loss, train], feed_dict={X:x_data, Y:y_data})\n",
    "        result =sess.run(prediction,feed_dict={X:x_data})\n",
    "       \n",
    "        result_str=[idx2char[c] for c in np.squeeze(result)]\n",
    "        print(i,\"loss: \",l,\"\\prediction str:\",''.join(result_str))"
   ]
  }
 ],
 "metadata": {
  "kernelspec": {
   "display_name": "Python 3",
   "language": "python",
   "name": "python3"
  },
  "language_info": {
   "codemirror_mode": {
    "name": "ipython",
    "version": 3
   },
   "file_extension": ".py",
   "mimetype": "text/x-python",
   "name": "python",
   "nbconvert_exporter": "python",
   "pygments_lexer": "ipython3",
   "version": "3.6.1"
  }
 },
 "nbformat": 4,
 "nbformat_minor": 2
}
